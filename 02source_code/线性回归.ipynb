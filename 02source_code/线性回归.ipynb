{
 "cells": [
  {
   "cell_type": "markdown",
   "id": "stuffed-richards",
   "metadata": {},
   "source": [
    "#### 回归模型主体部分"
   ]
  },
  {
   "cell_type": "code",
   "execution_count": 12,
   "id": "false-elements",
   "metadata": {},
   "outputs": [],
   "source": [
    "import numpy as np\n",
    "def linear_loss(X, y, w, b):\n",
    "    num_train = X.shape[0]\n",
    "    num_feature = X.shape[1]\n",
    "    # 模型公式\n",
    "    y_hat = np.dot(X, w) + b\n",
    "    # 损失函数\n",
    "    loss = np.sum((y_hat-y)**2)/num_train\n",
    "    # 参数的偏导\n",
    "    dw = np.dot(X.T, (y_hat-y)) /num_train\n",
    "    db = np.sum((y_hat-y)) /num_train\n",
    "    return y_hat, loss, dw, db\n"
   ]
  },
  {
   "cell_type": "markdown",
   "id": "prescription-norfolk",
   "metadata": {},
   "source": [
    "#### 参数初始化"
   ]
  },
  {
   "cell_type": "code",
   "execution_count": 13,
   "id": "aggressive-twins",
   "metadata": {},
   "outputs": [],
   "source": [
    "\n",
    "def initialize_params(dims):\n",
    "    w = np.zeros((dims, 1))\n",
    "    b = 0\n",
    "    return w, b"
   ]
  },
  {
   "cell_type": "code",
   "execution_count": null,
   "id": "reserved-recycling",
   "metadata": {},
   "outputs": [],
   "source": []
  }
 ],
 "metadata": {
  "kernelspec": {
   "display_name": "Python 3",
   "language": "python",
   "name": "python3"
  },
  "language_info": {
   "codemirror_mode": {
    "name": "ipython",
    "version": 3
   },
   "file_extension": ".py",
   "mimetype": "text/x-python",
   "name": "python",
   "nbconvert_exporter": "python",
   "pygments_lexer": "ipython3",
   "version": "3.7.10"
  }
 },
 "nbformat": 4,
 "nbformat_minor": 5
}
